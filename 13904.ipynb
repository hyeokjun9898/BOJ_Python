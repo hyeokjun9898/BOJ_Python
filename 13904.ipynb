{
 "cells": [
  {
   "cell_type": "code",
   "execution_count": 6,
   "metadata": {},
   "outputs": [
    {
     "name": "stdout",
     "output_type": "stream",
     "text": [
      "185\n"
     ]
    }
   ],
   "source": [
    "import sys\n",
    "\n",
    "#sys.stdin = open(\"input5.txt\",'r')\n",
    "input = sys.stdin.readline\n",
    "array = []\n",
    "# 문제에서 n<= 1000이기 때문\n",
    "visit = [False] * 1001\n",
    "\n",
    "# 갯수 받기\n",
    "n = int(input())\n",
    "\n",
    "for i in range(n):\n",
    "    d, s = map(int,input().split())\n",
    "    array.append((d,s))\n",
    "array.sort(key = lambda x : x[1], reverse =True)\n",
    "\n",
    "answer = 0\n",
    "\n",
    "for day, score in array:\n",
    "    # 각 점수마다 내림차순 했으므로 그 날짜 값에 해당 되는 값을 우선적으로 넣음\n",
    "    i = day\n",
    "    while i > 0 and visit[i]:\n",
    "        i -= 1\n",
    "    # 해당되는값 없으면 패스\n",
    "    if i == 0:\n",
    "        continue\n",
    "    else:\n",
    "        visit[i] = True\n",
    "        answer += score\n",
    "print(answer)"
   ]
  },
  {
   "cell_type": "code",
   "execution_count": null,
   "metadata": {},
   "outputs": [],
   "source": []
  }
 ],
 "metadata": {
  "kernelspec": {
   "display_name": "base",
   "language": "python",
   "name": "python3"
  },
  "language_info": {
   "codemirror_mode": {
    "name": "ipython",
    "version": 3
   },
   "file_extension": ".py",
   "mimetype": "text/x-python",
   "name": "python",
   "nbconvert_exporter": "python",
   "pygments_lexer": "ipython3",
   "version": "3.9.12"
  },
  "orig_nbformat": 4,
  "vscode": {
   "interpreter": {
    "hash": "7adfe9f3775c954d01fc005199cfce03b4193bbc6ff21451e4d1eaf7785b4e29"
   }
  }
 },
 "nbformat": 4,
 "nbformat_minor": 2
}
